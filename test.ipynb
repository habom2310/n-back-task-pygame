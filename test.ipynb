{
 "cells": [
  {
   "cell_type": "code",
   "execution_count": 1,
   "metadata": {},
   "outputs": [],
   "source": [
    "def get_correct_idx(seq):\n",
    "    correct_idx = []\n",
    "    for i, num in enumerate(seq):\n",
    "        if i < 2:\n",
    "            continue\n",
    "        if num == seq[i-2]:\n",
    "            correct_idx.append(i)\n",
    "\n",
    "    return correct_idx"
   ]
  },
  {
   "cell_type": "code",
   "execution_count": 9,
   "metadata": {},
   "outputs": [],
   "source": [
    "# random a sequence of numbers length of 1000.\n",
    "import numpy as np"
   ]
  },
  {
   "cell_type": "code",
   "execution_count": 27,
   "metadata": {},
   "outputs": [
    {
     "ename": "KeyboardInterrupt",
     "evalue": "",
     "output_type": "error",
     "traceback": [
      "\u001b[1;31m---------------------------------------------------------------------------\u001b[0m",
      "\u001b[1;31mKeyboardInterrupt\u001b[0m                         Traceback (most recent call last)",
      "Cell \u001b[1;32mIn[27], line 2\u001b[0m\n\u001b[0;32m      1\u001b[0m \u001b[39mwhile\u001b[39;00m \u001b[39m1\u001b[39m:\n\u001b[1;32m----> 2\u001b[0m     seq \u001b[39m=\u001b[39m np\u001b[39m.\u001b[39;49mrandom\u001b[39m.\u001b[39;49mrandint(\u001b[39m1\u001b[39;49m, \u001b[39m10\u001b[39;49m, \u001b[39m1000\u001b[39;49m)\n\u001b[0;32m      3\u001b[0m     \u001b[39mif\u001b[39;00m (p\u001b[39m:=\u001b[39m\u001b[39mlen\u001b[39m(get_correct_idx(seq))\u001b[39m/\u001b[39m\u001b[39m1000\u001b[39m) \u001b[39m>\u001b[39m \u001b[39m0.17\u001b[39m:\n\u001b[0;32m      4\u001b[0m         \u001b[39mprint\u001b[39m(p)\n",
      "\u001b[1;31mKeyboardInterrupt\u001b[0m: "
     ]
    }
   ],
   "source": [
    "while 1:\n",
    "    seq = np.random.randint(1, 10, 1000)\n",
    "    if (p:=len(get_correct_idx(seq))/1000) > 0.17:\n",
    "        print(p)\n",
    "        break\n"
   ]
  },
  {
   "cell_type": "code",
   "execution_count": 34,
   "metadata": {},
   "outputs": [],
   "source": [
    "# duplicate the sequence\n",
    "seq2 = np.concatenate((seq1, seq1))"
   ]
  },
  {
   "cell_type": "code",
   "execution_count": 36,
   "metadata": {},
   "outputs": [],
   "source": [
    "# write seq to text file\n",
    "with open('seq.txt', 'w') as f:\n",
    "    f.write(','.join(map(str, seq2)))"
   ]
  },
  {
   "cell_type": "code",
   "execution_count": null,
   "metadata": {},
   "outputs": [],
   "source": []
  }
 ],
 "metadata": {
  "kernelspec": {
   "display_name": "installer",
   "language": "python",
   "name": "python3"
  },
  "language_info": {
   "codemirror_mode": {
    "name": "ipython",
    "version": 3
   },
   "file_extension": ".py",
   "mimetype": "text/x-python",
   "name": "python",
   "nbconvert_exporter": "python",
   "pygments_lexer": "ipython3",
   "version": "3.8.16"
  },
  "orig_nbformat": 4,
  "vscode": {
   "interpreter": {
    "hash": "058c7e261465eba298fc2f83e1529877d61ea915a7bc8aa1baabf4c5a92da579"
   }
  }
 },
 "nbformat": 4,
 "nbformat_minor": 2
}
